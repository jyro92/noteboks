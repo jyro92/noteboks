{
  "nbformat": 4,
  "nbformat_minor": 0,
  "metadata": {
    "colab": {
      "provenance": [],
      "collapsed_sections": [],
      "authorship_tag": "ABX9TyNeF5HLdMLpnhuyIdg6VjYz",
      "include_colab_link": true
    },
    "kernelspec": {
      "name": "python3",
      "display_name": "Python 3"
    },
    "language_info": {
      "name": "python"
    }
  },
  "cells": [
    {
      "cell_type": "markdown",
      "metadata": {
        "id": "view-in-github",
        "colab_type": "text"
      },
      "source": [
        "<a href=\"https://colab.research.google.com/github/jyro92/noteboks/blob/main/Reto2.ipynb\" target=\"_parent\"><img src=\"https://colab.research.google.com/assets/colab-badge.svg\" alt=\"Open In Colab\"/></a>"
      ]
    },
    {
      "cell_type": "code",
      "execution_count": 33,
      "metadata": {
        "id": "NiEOL8cz29dc",
        "colab": {
          "base_uri": "https://localhost:8080/"
        },
        "outputId": "3063dcfd-56c2-44f2-8b17-b750cc9bc084"
      },
      "outputs": [
        {
          "output_type": "execute_result",
          "data": {
            "text/plain": [
              "RendererRegistry.enable('default')"
            ]
          },
          "metadata": {},
          "execution_count": 33
        }
      ],
      "source": [
        "import numpy as np\n",
        "import altair as alt\n",
        "import pandas as pd\n",
        "from vega_datasets import data\n",
        "alt.renderers.enable('default')"
      ]
    },
    {
      "cell_type": "code",
      "source": [
        "nb_games = 10000 # El número de juegos que vamos a simular\n"
      ],
      "metadata": {
        "id": "92WF5NHQtH6j"
      },
      "execution_count": 34,
      "outputs": []
    },
    {
      "cell_type": "code",
      "source": [
        "games = []\n",
        "for i in range(nb_games):\n",
        "    game = np.repeat('🐐', 3)\n",
        "    prize = np.random.randint(0,3,1) # la puerta detrás de la cual se esconde el coche\n",
        "    game[prize]='🚗' \n",
        "    games.append(game)"
      ],
      "metadata": {
        "id": "CvkaoulZtNYj"
      },
      "execution_count": 47,
      "outputs": []
    },
    {
      "cell_type": "markdown",
      "source": [
        "#Estrategia: mantener la puerta\n"
      ],
      "metadata": {
        "id": "jw6f-0jktdoj"
      }
    },
    {
      "cell_type": "code",
      "source": [
        "wins=0 #  contador\n",
        "for i in range(nb_games):\n",
        "    doors = [0,1,2,3]\n",
        "    player_door_choice = int(np.random.choice(doors, 1)) # la elección inicial de la puerta del jugador\n",
        "    doors.remove(player_door_choice) # Puertas no elegidas por el jugador\n",
        "    for j in doors: # Monty Hall revela que detrás de una de las puertas no elegidas hay una cabra\n",
        "        if games[i][j] == '🐐':\n",
        "            goat_door = j\n",
        "    if games[i][player_door_choice] == '🚗': # El jugador mantiene su elección inicial de puerta.\n",
        "        wins += 1"
      ],
      "metadata": {
        "id": "c0Si8uT4tUsb"
      },
      "execution_count": 43,
      "outputs": []
    },
    {
      "cell_type": "code",
      "source": [
        "print(f\"Porcentaje de victorias: {round(wins/nb_games*100,1)}%\")"
      ],
      "metadata": {
        "colab": {
          "base_uri": "https://localhost:8080/"
        },
        "id": "iguiQ3bNtq9v",
        "outputId": "f3a9ffc8-156f-451a-f959-b30ec03c593c"
      },
      "execution_count": 44,
      "outputs": [
        {
          "output_type": "stream",
          "name": "stdout",
          "text": [
            "Porcentaje de victorias: 24.9%\n"
          ]
        }
      ]
    },
    {
      "cell_type": "code",
      "source": [
        "x = ['🚗','🐐']\n",
        "y = [round(wins/nb_games*100, 0), 100 - round(wins/nb_games*100, 0)]\n",
        "source = pd.DataFrame({'x':x, 'y':y})\n",
        "(alt.Chart(source).mark_bar(size=30).encode(\n",
        "    x=alt.X('x', axis=alt.Axis(title=None)),\n",
        "    y=alt.Y('y', axis=alt.Axis(title='Salir %'))\n",
        ").properties(width=200, title='Estrategia: mantener la misma puerta')\n",
        ".configure_axis(labelFontSize=20)\n",
        ".configure_title(\n",
        "    fontSize=20,\n",
        "    font='Courier',\n",
        "    anchor='start',\n",
        "    color='gray'\n",
        "))"
      ],
      "metadata": {
        "colab": {
          "base_uri": "https://localhost:8080/",
          "height": 400
        },
        "id": "mce0xFRatxml",
        "outputId": "c012b19d-cdca-42f7-b33b-f67cac4d7eac"
      },
      "execution_count": 45,
      "outputs": [
        {
          "output_type": "execute_result",
          "data": {
            "text/html": [
              "\n",
              "<div id=\"altair-viz-a664accb1b3e4f1cbba3d03342de7214\"></div>\n",
              "<script type=\"text/javascript\">\n",
              "  var VEGA_DEBUG = (typeof VEGA_DEBUG == \"undefined\") ? {} : VEGA_DEBUG;\n",
              "  (function(spec, embedOpt){\n",
              "    let outputDiv = document.currentScript.previousElementSibling;\n",
              "    if (outputDiv.id !== \"altair-viz-a664accb1b3e4f1cbba3d03342de7214\") {\n",
              "      outputDiv = document.getElementById(\"altair-viz-a664accb1b3e4f1cbba3d03342de7214\");\n",
              "    }\n",
              "    const paths = {\n",
              "      \"vega\": \"https://cdn.jsdelivr.net/npm//vega@5?noext\",\n",
              "      \"vega-lib\": \"https://cdn.jsdelivr.net/npm//vega-lib?noext\",\n",
              "      \"vega-lite\": \"https://cdn.jsdelivr.net/npm//vega-lite@4.17.0?noext\",\n",
              "      \"vega-embed\": \"https://cdn.jsdelivr.net/npm//vega-embed@6?noext\",\n",
              "    };\n",
              "\n",
              "    function maybeLoadScript(lib, version) {\n",
              "      var key = `${lib.replace(\"-\", \"\")}_version`;\n",
              "      return (VEGA_DEBUG[key] == version) ?\n",
              "        Promise.resolve(paths[lib]) :\n",
              "        new Promise(function(resolve, reject) {\n",
              "          var s = document.createElement('script');\n",
              "          document.getElementsByTagName(\"head\")[0].appendChild(s);\n",
              "          s.async = true;\n",
              "          s.onload = () => {\n",
              "            VEGA_DEBUG[key] = version;\n",
              "            return resolve(paths[lib]);\n",
              "          };\n",
              "          s.onerror = () => reject(`Error loading script: ${paths[lib]}`);\n",
              "          s.src = paths[lib];\n",
              "        });\n",
              "    }\n",
              "\n",
              "    function showError(err) {\n",
              "      outputDiv.innerHTML = `<div class=\"error\" style=\"color:red;\">${err}</div>`;\n",
              "      throw err;\n",
              "    }\n",
              "\n",
              "    function displayChart(vegaEmbed) {\n",
              "      vegaEmbed(outputDiv, spec, embedOpt)\n",
              "        .catch(err => showError(`Javascript Error: ${err.message}<br>This usually means there's a typo in your chart specification. See the javascript console for the full traceback.`));\n",
              "    }\n",
              "\n",
              "    if(typeof define === \"function\" && define.amd) {\n",
              "      requirejs.config({paths});\n",
              "      require([\"vega-embed\"], displayChart, err => showError(`Error loading script: ${err.message}`));\n",
              "    } else {\n",
              "      maybeLoadScript(\"vega\", \"5\")\n",
              "        .then(() => maybeLoadScript(\"vega-lite\", \"4.17.0\"))\n",
              "        .then(() => maybeLoadScript(\"vega-embed\", \"6\"))\n",
              "        .catch(showError)\n",
              "        .then(() => displayChart(vegaEmbed));\n",
              "    }\n",
              "  })({\"config\": {\"view\": {\"continuousWidth\": 400, \"continuousHeight\": 300}, \"axis\": {\"labelFontSize\": 20}, \"title\": {\"anchor\": \"start\", \"color\": \"gray\", \"font\": \"Courier\", \"fontSize\": 20}}, \"data\": {\"name\": \"data-b1a54e4716d311eb84df5c5ca0522904\"}, \"mark\": {\"type\": \"bar\", \"size\": 30}, \"encoding\": {\"x\": {\"axis\": {\"title\": null}, \"field\": \"x\", \"type\": \"nominal\"}, \"y\": {\"axis\": {\"title\": \"Salir %\"}, \"field\": \"y\", \"type\": \"quantitative\"}}, \"title\": \"Estrategia: mantener la misma puerta\", \"width\": 200, \"$schema\": \"https://vega.github.io/schema/vega-lite/v4.17.0.json\", \"datasets\": {\"data-b1a54e4716d311eb84df5c5ca0522904\": [{\"x\": \"\\ud83d\\ude97\", \"y\": 25.0}, {\"x\": \"\\ud83d\\udc10\", \"y\": 75.0}]}}, {\"mode\": \"vega-lite\"});\n",
              "</script>"
            ],
            "text/plain": [
              "alt.Chart(...)"
            ]
          },
          "metadata": {},
          "execution_count": 45
        }
      ]
    },
    {
      "cell_type": "code",
      "source": [
        "print(f\"Porcentaje de victorias: {round(wins/nb_games*100,1)}%\")\n"
      ],
      "metadata": {
        "colab": {
          "base_uri": "https://localhost:8080/"
        },
        "id": "GWoKWtYRvxbd",
        "outputId": "22a17f54-021e-47b2-fb54-e295692f26ac"
      },
      "execution_count": 46,
      "outputs": [
        {
          "output_type": "stream",
          "name": "stdout",
          "text": [
            "Porcentaje de victorias: 24.9%\n"
          ]
        }
      ]
    },
    {
      "cell_type": "markdown",
      "source": [
        "# Strategy: change door\n"
      ],
      "metadata": {
        "id": "erWjMF0KwSWF"
      }
    },
    {
      "cell_type": "code",
      "source": [
        "wins=0\n",
        "for i in range(nb_games):\n",
        "    doors = [0,1,2]\n",
        "    player_door_choice = int(np.random.choice(doors, 1)) # la elección inicial de la puerta del jugador\n",
        "    doors.remove(player_door_choice) # puertas no elegidas\n",
        "    for j in doors: # Monty Hall revela que detrás de una de las puertas no elegidas hay una cabra\n",
        "        if games[i][j] == '🐐':\n",
        "            goat_door = j\n",
        "    doors.remove(goat_door) # el jugador cambia su elección de puerta\n",
        "    if games[i][doors[0]] == '🚗':\n",
        "        wins += 1"
      ],
      "metadata": {
        "id": "hEMzpyJ4wYZV"
      },
      "execution_count": 40,
      "outputs": []
    },
    {
      "cell_type": "code",
      "source": [
        "x = ['🚗','🐐']\n",
        "y = [int(wins/nb_games*100), 100 - int(wins/nb_games*100)]\n",
        "source = pd.DataFrame({'x':x, 'y':y})\n",
        "(alt.Chart(source).mark_bar(size=30).encode(\n",
        "    x=alt.X('x', axis=alt.Axis(title=None)),\n",
        "    y=alt.Y('y', axis=alt.Axis(title='Salir %'))\n",
        ").properties(width=200, title='Estrategia: cambiar de puerta')\n",
        ".configure_axis(labelFontSize=20)\n",
        ".configure_title(\n",
        "    fontSize=20,\n",
        "    font='Courier',\n",
        "    anchor='start',\n",
        "    color='gray'\n",
        "))"
      ],
      "metadata": {
        "colab": {
          "base_uri": "https://localhost:8080/",
          "height": 400
        },
        "id": "dbzOVG1Vv8Mr",
        "outputId": "8f5082f2-e5f9-4ece-cf9a-897181b76fa4"
      },
      "execution_count": 41,
      "outputs": [
        {
          "output_type": "execute_result",
          "data": {
            "text/html": [
              "\n",
              "<div id=\"altair-viz-6c7ad904bacf4ca58cc9df1c1e3bbb00\"></div>\n",
              "<script type=\"text/javascript\">\n",
              "  var VEGA_DEBUG = (typeof VEGA_DEBUG == \"undefined\") ? {} : VEGA_DEBUG;\n",
              "  (function(spec, embedOpt){\n",
              "    let outputDiv = document.currentScript.previousElementSibling;\n",
              "    if (outputDiv.id !== \"altair-viz-6c7ad904bacf4ca58cc9df1c1e3bbb00\") {\n",
              "      outputDiv = document.getElementById(\"altair-viz-6c7ad904bacf4ca58cc9df1c1e3bbb00\");\n",
              "    }\n",
              "    const paths = {\n",
              "      \"vega\": \"https://cdn.jsdelivr.net/npm//vega@5?noext\",\n",
              "      \"vega-lib\": \"https://cdn.jsdelivr.net/npm//vega-lib?noext\",\n",
              "      \"vega-lite\": \"https://cdn.jsdelivr.net/npm//vega-lite@4.17.0?noext\",\n",
              "      \"vega-embed\": \"https://cdn.jsdelivr.net/npm//vega-embed@6?noext\",\n",
              "    };\n",
              "\n",
              "    function maybeLoadScript(lib, version) {\n",
              "      var key = `${lib.replace(\"-\", \"\")}_version`;\n",
              "      return (VEGA_DEBUG[key] == version) ?\n",
              "        Promise.resolve(paths[lib]) :\n",
              "        new Promise(function(resolve, reject) {\n",
              "          var s = document.createElement('script');\n",
              "          document.getElementsByTagName(\"head\")[0].appendChild(s);\n",
              "          s.async = true;\n",
              "          s.onload = () => {\n",
              "            VEGA_DEBUG[key] = version;\n",
              "            return resolve(paths[lib]);\n",
              "          };\n",
              "          s.onerror = () => reject(`Error loading script: ${paths[lib]}`);\n",
              "          s.src = paths[lib];\n",
              "        });\n",
              "    }\n",
              "\n",
              "    function showError(err) {\n",
              "      outputDiv.innerHTML = `<div class=\"error\" style=\"color:red;\">${err}</div>`;\n",
              "      throw err;\n",
              "    }\n",
              "\n",
              "    function displayChart(vegaEmbed) {\n",
              "      vegaEmbed(outputDiv, spec, embedOpt)\n",
              "        .catch(err => showError(`Javascript Error: ${err.message}<br>This usually means there's a typo in your chart specification. See the javascript console for the full traceback.`));\n",
              "    }\n",
              "\n",
              "    if(typeof define === \"function\" && define.amd) {\n",
              "      requirejs.config({paths});\n",
              "      require([\"vega-embed\"], displayChart, err => showError(`Error loading script: ${err.message}`));\n",
              "    } else {\n",
              "      maybeLoadScript(\"vega\", \"5\")\n",
              "        .then(() => maybeLoadScript(\"vega-lite\", \"4.17.0\"))\n",
              "        .then(() => maybeLoadScript(\"vega-embed\", \"6\"))\n",
              "        .catch(showError)\n",
              "        .then(() => displayChart(vegaEmbed));\n",
              "    }\n",
              "  })({\"config\": {\"view\": {\"continuousWidth\": 400, \"continuousHeight\": 300}, \"axis\": {\"labelFontSize\": 20}, \"title\": {\"anchor\": \"start\", \"color\": \"gray\", \"font\": \"Courier\", \"fontSize\": 20}}, \"data\": {\"name\": \"data-6dce8ed0d6e14bdcf30fb362724e0857\"}, \"mark\": {\"type\": \"bar\", \"size\": 30}, \"encoding\": {\"x\": {\"axis\": {\"title\": null}, \"field\": \"x\", \"type\": \"nominal\"}, \"y\": {\"axis\": {\"title\": \"Salir %\"}, \"field\": \"y\", \"type\": \"quantitative\"}}, \"title\": \"Estrategia: cambiar de puerta\", \"width\": 200, \"$schema\": \"https://vega.github.io/schema/vega-lite/v4.17.0.json\", \"datasets\": {\"data-6dce8ed0d6e14bdcf30fb362724e0857\": [{\"x\": \"\\ud83d\\ude97\", \"y\": 66}, {\"x\": \"\\ud83d\\udc10\", \"y\": 34}]}}, {\"mode\": \"vega-lite\"});\n",
              "</script>"
            ],
            "text/plain": [
              "alt.Chart(...)"
            ]
          },
          "metadata": {},
          "execution_count": 41
        }
      ]
    },
    {
      "cell_type": "markdown",
      "source": [
        "# Como mostré anteriormente, la estrategia de cambio de puerta es mucho mejor con un 66,6 % de cambio de ganador, frente al 33,3 % si mantenemos la puerta original."
      ],
      "metadata": {
        "id": "49rH5_e3w9ck"
      }
    }
  ]
}